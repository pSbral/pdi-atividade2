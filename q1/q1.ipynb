{
 "cells": [
  {
   "cell_type": "code",
   "execution_count": 6,
   "metadata": {},
   "outputs": [],
   "source": [
    "import cv2\n",
    "import matplotlib.pyplot as plt\n",
    "import numpy as np"
   ]
  },
  {
   "cell_type": "code",
   "execution_count": 10,
   "metadata": {},
   "outputs": [],
   "source": [
    "def identifica_bandeira(img):\n",
    "    resultados = []\n",
    "\n",
    "    gray = cv2.cvtColor(img, cv2.COLOR_BGR2GRAY)\n",
    "    _, mask = cv2.threshold(gray, 10, 255, cv2.THRESH_BINARY)\n",
    "\n",
    "    contornos, _ = cv2.findContours(mask, cv2.RETR_EXTERNAL, cv2.CHAIN_APPROX_SIMPLE)\n",
    "\n",
    "    for contorno in contornos:\n",
    "        x, y, w, h = cv2.boundingRect(contorno)\n",
    "        if w < 20 or h < 20:\n",
    "            continue\n",
    "\n",
    "        bandeira = img[y:y+h, x:x+w]\n",
    "        bandeira_resized = cv2.resize(bandeira, (90, 60))\n",
    "\n",
    "        faixa1 = np.mean(bandeira_resized[:, :30].reshape(-1, 3), axis=0)\n",
    "        faixa2 = np.mean(bandeira_resized[:, 30:60].reshape(-1, 3), axis=0)\n",
    "        faixa3 = np.mean(bandeira_resized[:, 60:].reshape(-1, 3), axis=0)\n",
    "\n",
    "        def is_white(c): return np.min(c) > 180\n",
    "        def is_red(c): return c[2] > 120 and c[1] < 100\n",
    "        def is_green(c): return c[1] > 120 and c[0] < 100\n",
    "        def is_orange(c): return c[2] > 150 and c[1] > 100 and c[0] < 80\n",
    "\n",
    "        pais = \"desconhecido\"\n",
    "\n",
    "        if is_red(faixa1) and is_white(faixa2) and is_red(faixa3):\n",
    "            pais = \"peru\"\n",
    "        elif is_green(faixa1) and is_white(faixa2) and is_red(faixa3):\n",
    "            pais = \"italia\"\n",
    "        elif is_green(faixa1) and is_white(faixa2) and is_orange(faixa3):\n",
    "            pais = \"irlanda\"\n",
    "        else:\n",
    "            top = np.mean(bandeira_resized[:30].reshape(-1, 3), axis=0)\n",
    "            bottom = np.mean(bandeira_resized[30:].reshape(-1, 3), axis=0)\n",
    "            if is_red(top) and is_white(bottom):\n",
    "                branco = cv2.cvtColor(bandeira_resized, cv2.COLOR_BGR2GRAY)\n",
    "                if np.count_nonzero(branco > 200) > 100:\n",
    "                    pais = \"singapura\"\n",
    "                else:\n",
    "                    pais = \"monaco\"\n",
    "\n",
    "        resultados.append((pais, (x, y), (x + w, y + h)))\n",
    "\n",
    "    return resultados\n"
   ]
  },
  {
   "cell_type": "code",
   "execution_count": 8,
   "metadata": {},
   "outputs": [],
   "source": [
    "## nao alterar essa função\n",
    "# Função para desenhar as bandeiras identificadas\n",
    "def draw_bandeiras(lista_bandeiras, bgr):\n",
    "    try:\n",
    "        for bandeira in lista_bandeiras:\n",
    "            cv2.rectangle(bgr, bandeira[1], bandeira[2], (255, 0, 0), 5)\n",
    "            cv2.putText(bgr, bandeira[0], bandeira[1], cv2.FONT_HERSHEY_SIMPLEX, 1, (255, 0, 0), 2, cv2.LINE_AA)\n",
    "        return bgr\n",
    "    except Exception as e:\n",
    "        return bgr"
   ]
  },
  {
   "cell_type": "code",
   "execution_count": null,
   "metadata": {},
   "outputs": [
    {
     "name": "stdout",
     "output_type": "stream",
     "text": [
      "[('singapura', (192, 496), (457, 674)), ('singapura', (726, 163), (984, 370)), ('peru', (119, 121), (381, 296))]\n"
     ]
    },
    {
     "data": {
      "image/png": "[encoded data removed]",
      "text/plain": [
       "<Figure size 640x480 with 1 Axes>"
      ]
     },
     "metadata": {},
     "output_type": "display_data"
    }
   ],
   "source": [
    "import cv2\n",
    "import matplotlib.pyplot as plt\n",
    "import numpy as np\n",
    "\n",
    "## Para testar a função identifica_bandeira\n",
    "# Você pode testar a função identifica_bandeira com as imagens de teste fornecidas\n",
    "\n",
    "img = cv2.imread('img/teste1.png')\n",
    "# img = cv2.imread('img/teste2.png')\n",
    "# img = cv2.imread('img/teste3.png')\n",
    "# img = cv2.imread('img/teste4.png')\n",
    "\n",
    "# Chamar a função identifica_bandeira\n",
    "resultado = identifica_bandeira(img)\n",
    "\n",
    "# Imprimir o resultado da função identifica_bandeira \n",
    "print(resultado)\n",
    "\n",
    "# Desenhar as bandeiras na imagem\n",
    "bgr = draw_bandeiras(resultado, img)\n",
    "plt.imshow(cv2.cvtColor(bgr, cv2.COLOR_BGR2RGB))\n",
    "plt.show()\n"
   ]
  }
 ],
 "metadata": {
  "kernelspec": {
   "display_name": "Python 3",
   "language": "python",
   "name": "python3"
  },
  "language_info": {
   "codemirror_mode": {
    "name": "ipython",
    "version": 3
   },
   "file_extension": ".py",
   "mimetype": "text/x-python",
   "name": "python",
   "nbconvert_exporter": "python",
   "pygments_lexer": "ipython3",
   "version": "3.12.5"
  }
 },
 "nbformat": 4,
 "nbformat_minor": 2
}
